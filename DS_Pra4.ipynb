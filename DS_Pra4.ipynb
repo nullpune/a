{
 "cells": [
  {
   "cell_type": "code",
   "execution_count": 5,
   "id": "2c3ce3bd-250a-4dd1-904d-1afc40dd7baa",
   "metadata": {},
   "outputs": [],
   "source": [
    "import pandas as pd\n",
    "import numpy as np\n",
    "from sklearn.model_selection import train_test_split\n",
    "from sklearn.linear_model import LinearRegression\n",
    "from sklearn.metrics import mean_squared_error, r2_score\n",
    "\n",
    "#to ignore warnings\n",
    "import warnings\n",
    "warnings.filterwarnings('ignore')"
   ]
  },
  {
   "cell_type": "code",
   "execution_count": 6,
   "id": "189bb299-e408-4475-9d5b-ab644558834f",
   "metadata": {},
   "outputs": [],
   "source": [
    "# Download dataset from URL\n",
    "data_url = \"http://lib.stat.cmu.edu/datasets/boston\"\n",
    "raw_df = pd.read_csv(data_url, sep=\"\\s+\", skiprows=22, header=None)"
   ]
  },
  {
   "cell_type": "code",
   "execution_count": null,
   "id": "a487bd54-c3ae-4f7b-88b4-533ea8bb19cb",
   "metadata": {},
   "outputs": [],
   "source": [
    "raw_df"
   ]
  },
  {
   "cell_type": "code",
   "execution_count": null,
   "id": "4d2e38b8-3b64-4ce1-b03f-a2e353e527dc",
   "metadata": {},
   "outputs": [],
   "source": [
    "raw_df.info()"
   ]
  },
  {
   "cell_type": "code",
   "execution_count": null,
   "id": "a0896364-3b87-435e-8bbb-1e2ec5a561df",
   "metadata": {},
   "outputs": [],
   "source": [
    "raw_df.isnull().sum()"
   ]
  },
  {
   "cell_type": "code",
   "execution_count": null,
   "id": "9fe072a3-0349-4d82-88fe-1be7d8cccaee",
   "metadata": {},
   "outputs": [],
   "source": [
    "raw_df.describe()"
   ]
  },
  {
   "cell_type": "code",
   "execution_count": null,
   "id": "efd87b8e-6570-4671-8514-760b64d7df62",
   "metadata": {},
   "outputs": [],
   "source": [
    "raw_df.dtypes"
   ]
  },
  {
   "cell_type": "code",
   "execution_count": null,
   "id": "1f9557b4-7cb2-48dc-8e66-f320df3278df",
   "metadata": {},
   "outputs": [],
   "source": [
    "# Preprocess dataset\n",
    "X = np.hstack([raw_df.values[::2, :], raw_df.values[1::2, :2]])  # Features\n",
    "y = raw_df.values[1::2, 2]  # Target (House Prices)"
   ]
  },
  {
   "cell_type": "code",
   "execution_count": null,
   "id": "40e8c1c5-32ea-49ef-8925-56a5aef2b037",
   "metadata": {},
   "outputs": [],
   "source": [
    "# Convert to DataFrame\n",
    "columns = ['CRIM', 'ZN', 'INDUS', 'CHAS', 'NOX', 'RM', 'AGE', 'DIS', 'RAD', 'TAX', 'PTRATIO', 'B', 'LSTAT']\n",
    "df = pd.DataFrame(X, columns=columns)\n",
    "df['PRICE'] = y"
   ]
  },
  {
   "cell_type": "code",
   "execution_count": null,
   "id": "b9f1dc09-8ee8-411b-9385-8359ada334e0",
   "metadata": {},
   "outputs": [],
   "source": [
    "# Splitting Dataset\n",
    "X = df.drop('PRICE', axis=1)\n",
    "y = df['PRICE']\n",
    "X_train, X_test, y_train, y_test = train_test_split(X, y, test_size=0.2, random_state=42)\n"
   ]
  },
  {
   "cell_type": "code",
   "execution_count": null,
   "id": "1578e849-5a06-4ec3-bfd1-d1d64accbc70",
   "metadata": {},
   "outputs": [],
   "source": [
    "# Model Training\n",
    "model = LinearRegression()\n",
    "model.fit(X_train, y_train)"
   ]
  },
  {
   "cell_type": "code",
   "execution_count": null,
   "id": "f2c316b2-cc94-4626-8b47-d8cff63ccd7c",
   "metadata": {},
   "outputs": [],
   "source": [
    "# Prediction\n",
    "y_pred = model.predict(X_test)\n",
    "y_test_pred = model.predict(X_test)\n",
    "y_train_pred = model.predict(X_train)\n"
   ]
  },
  {
   "cell_type": "code",
   "execution_count": null,
   "id": "e8a0379a-bf48-44e7-896b-accc51cef0e8",
   "metadata": {},
   "outputs": [],
   "source": [
    "# Evaluation\n",
    "print(\"Mean Squared Error:\", mean_squared_error(y_test, y_pred))\n",
    "print(\"R-Squared Score:\", r2_score(y_test, y_pred))\n",
    "print(\"Predicted Prices:\\n\", y_pred[:5])"
   ]
  },
  {
   "cell_type": "code",
   "execution_count": null,
   "id": "048debea-32f1-4a93-83f3-5fdc0fa11608",
   "metadata": {},
   "outputs": [],
   "source": [
    "import matplotlib.pyplot as plt"
   ]
  },
  {
   "cell_type": "code",
   "execution_count": null,
   "id": "83b6c77c-e6cb-4baf-bcd8-23dccaa401fb",
   "metadata": {},
   "outputs": [],
   "source": [
    "plt.scatter(y_test, y_pred)\n",
    "plt.xlabel(\"Actual Prices\")\n",
    "plt.ylabel(\"Predicted Prices\")\n",
    "plt.title(\"Actual Prices vs Predicted Prices\")\n",
    "plt.show()\n"
   ]
  },
  {
   "cell_type": "code",
   "execution_count": null,
   "id": "4f986717-9b2c-4351-a1c9-54d4f075efe9",
   "metadata": {},
   "outputs": [],
   "source": [
    "# Plot actual values\n",
    "plt.scatter(y_train,y_train_pred,color='blue', marker ='o', label='Training data')\n",
    "plt.scatter(y_test,y_test_pred,color='lightgreen', marker ='o', label='Testing data')\n",
    "# Labels and title\n",
    "plt.xlabel(\"True Values\")\n",
    "plt.ylabel(\"Predicted\")\n",
    "plt.title(\"True Values vs Predicted\")\n",
    "plt.legend()\n",
    "plt.show()\n"
   ]
  },
  {
   "cell_type": "code",
   "execution_count": null,
   "id": "47ca65ba-0eb4-4d74-ac6f-dac2d95cd217",
   "metadata": {},
   "outputs": [],
   "source": []
  }
 ],
 "metadata": {
  "kernelspec": {
   "display_name": "Python 3 (ipykernel)",
   "language": "python",
   "name": "python3"
  },
  "language_info": {
   "codemirror_mode": {
    "name": "ipython",
    "version": 3
   },
   "file_extension": ".py",
   "mimetype": "text/x-python",
   "name": "python",
   "nbconvert_exporter": "python",
   "pygments_lexer": "ipython3",
   "version": "3.13.2"
  }
 },
 "nbformat": 4,
 "nbformat_minor": 5
}
