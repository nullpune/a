{
 "cells": [
  {
   "cell_type": "code",
   "execution_count": 2,
   "id": "3050db17",
   "metadata": {},
   "outputs": [
    {
     "name": "stderr",
     "output_type": "stream",
     "text": [
      "[nltk_data] Downloading package punkt_tab to\n",
      "[nltk_data]     C:\\Users\\ASUS\\AppData\\Roaming\\nltk_data...\n",
      "[nltk_data]   Unzipping tokenizers\\punkt_tab.zip.\n",
      "[nltk_data] Downloading package averaged_perceptron_tagger_eng to\n",
      "[nltk_data]     C:\\Users\\ASUS\\AppData\\Roaming\\nltk_data...\n",
      "[nltk_data]   Unzipping taggers\\averaged_perceptron_tagger_eng.zip.\n",
      "[nltk_data] Downloading package punkt to\n",
      "[nltk_data]     C:\\Users\\ASUS\\AppData\\Roaming\\nltk_data...\n"
     ]
    },
    {
     "name": "stdout",
     "output_type": "stream",
     "text": [
      "Downloading punkt...\n"
     ]
    },
    {
     "name": "stderr",
     "output_type": "stream",
     "text": [
      "[nltk_data]   Unzipping tokenizers\\punkt.zip.\n",
      "[nltk_data] Downloading package stopwords to\n",
      "[nltk_data]     C:\\Users\\ASUS\\AppData\\Roaming\\nltk_data...\n"
     ]
    },
    {
     "name": "stdout",
     "output_type": "stream",
     "text": [
      "Downloading stopwords...\n",
      "Downloading averaged_perceptron_tagger...\n"
     ]
    },
    {
     "name": "stderr",
     "output_type": "stream",
     "text": [
      "[nltk_data]   Unzipping corpora\\stopwords.zip.\n",
      "[nltk_data] Downloading package averaged_perceptron_tagger to\n",
      "[nltk_data]     C:\\Users\\ASUS\\AppData\\Roaming\\nltk_data...\n",
      "[nltk_data]   Unzipping taggers\\averaged_perceptron_tagger.zip.\n",
      "[nltk_data] Downloading package wordnet to\n",
      "[nltk_data]     C:\\Users\\ASUS\\AppData\\Roaming\\nltk_data...\n"
     ]
    },
    {
     "name": "stdout",
     "output_type": "stream",
     "text": [
      "Downloading wordnet...\n",
      "Downloading omw-1.4...\n"
     ]
    },
    {
     "name": "stderr",
     "output_type": "stream",
     "text": [
      "[nltk_data] Downloading package omw-1.4 to\n",
      "[nltk_data]     C:\\Users\\ASUS\\AppData\\Roaming\\nltk_data...\n"
     ]
    },
    {
     "name": "stdout",
     "output_type": "stream",
     "text": [
      "Tokenization:\n",
      "['The', 'quick', 'brown', 'fox', 'jumps', 'over', 'the', 'lazy', 'dog', '.', 'Dogs', 'are', 'great', 'pets', ',', 'but', 'foxes', 'are', 'wild', 'animals', '.', 'Foxes', 'and', 'dogs', 'have', 'different', 'behaviors', '.']\n",
      "\n",
      "==================================================\n",
      "\n",
      "POS Tagging:\n",
      "[('The', 'DT'), ('quick', 'JJ'), ('brown', 'NN'), ('fox', 'NN'), ('jumps', 'VBZ'), ('over', 'IN'), ('the', 'DT'), ('lazy', 'JJ'), ('dog', 'NN'), ('.', '.'), ('Dogs', 'NNS'), ('are', 'VBP'), ('great', 'JJ'), ('pets', 'NNS'), (',', ','), ('but', 'CC'), ('foxes', 'NNS'), ('are', 'VBP'), ('wild', 'JJ'), ('animals', 'NNS'), ('.', '.'), ('Foxes', 'NNS'), ('and', 'CC'), ('dogs', 'NNS'), ('have', 'VBP'), ('different', 'JJ'), ('behaviors', 'NNS'), ('.', '.')]\n",
      "\n",
      "==================================================\n",
      "\n",
      "After Stop Words Removal:\n",
      "['quick', 'brown', 'fox', 'jumps', 'lazy', 'dog', 'Dogs', 'great', 'pets', 'foxes', 'wild', 'animals', 'Foxes', 'dogs', 'different', 'behaviors']\n",
      "\n",
      "==================================================\n",
      "\n",
      "After Stemming:\n",
      "['quick', 'brown', 'fox', 'jump', 'lazi', 'dog', 'dog', 'great', 'pet', 'fox', 'wild', 'anim', 'fox', 'dog', 'differ', 'behavior']\n",
      "\n",
      "==================================================\n",
      "\n",
      "After Lemmatization:\n",
      "['quick', 'brown', 'fox', 'jump', 'lazy', 'dog', 'Dogs', 'great', 'pet', 'fox', 'wild', 'animal', 'Foxes', 'dog', 'different', 'behavior']\n",
      "\n",
      "==================================================\n",
      "\n",
      "TF-IDF Representation:\n",
      "             animal  behavior    brown  companion  different       dog  \\\n",
      "Document 1  0.24524   0.24524  0.24524   0.000000    0.24524  0.373022   \n",
      "Document 2  0.00000   0.00000  0.00000   0.528635    0.00000  0.402040   \n",
      "Document 3  0.00000   0.00000  0.00000   0.000000    0.00000  0.000000   \n",
      "\n",
      "               dogs    forest       fox    foxes    great     jump     lazy  \\\n",
      "Document 1  0.24524  0.000000  0.373022  0.24524  0.24524  0.24524  0.24524   \n",
      "Document 2  0.00000  0.000000  0.000000  0.00000  0.00000  0.00000  0.00000   \n",
      "Document 3  0.00000  0.622766  0.473630  0.00000  0.00000  0.00000  0.00000   \n",
      "\n",
      "                live      make      pet    quick     wild  wonderful  \n",
      "Document 1  0.000000  0.000000  0.24524  0.24524  0.24524   0.000000  \n",
      "Document 2  0.000000  0.528635  0.00000  0.00000  0.00000   0.528635  \n",
      "Document 3  0.622766  0.000000  0.00000  0.00000  0.00000   0.000000  \n"
     ]
    }
   ],
   "source": [
    "import nltk\n",
    "from nltk.tokenize import word_tokenize\n",
    "from nltk.corpus import stopwords\n",
    "from nltk.stem import PorterStemmer, WordNetLemmatizer\n",
    "from nltk import pos_tag\n",
    "from sklearn.feature_extraction.text import TfidfVectorizer\n",
    "import pandas as pd\n",
    "nltk.download('punkt_tab')\n",
    "nltk.download('averaged_perceptron_tagger_eng')\n",
    "#Download all required NLTK data\n",
    "def download_nltk_resources():\n",
    "    resources = {\n",
    "        'punkt': 'tokenizers/punkt',\n",
    "        'stopwords': 'corpora/stopwords',\n",
    "        'averaged_perceptron_tagger': 'taggers/averaged_perceptron_tagger',\n",
    "        'wordnet': 'corpora/wordnet',\n",
    "        'omw-1.4': 'corpora/omw-1.4'\n",
    "    }\n",
    "    \n",
    "    for resource, path in resources.items():\n",
    "        try:\n",
    "            nltk.data.find(path)\n",
    "        except LookupError:\n",
    "            print(f\"Downloading {resource}...\")\n",
    "            nltk.download(resource)\n",
    "\n",
    "download_nltk_resources()\n",
    "\n",
    "# Sample document\n",
    "document = \"\"\"The quick brown fox jumps over the lazy dog. Dogs are great pets, but foxes are wild animals. Foxes and dogs have different behaviors.\"\"\"\n",
    "\n",
    "# 1. Tokenization\n",
    "try:\n",
    "    tokens = word_tokenize(document)\n",
    "    print(\"Tokenization:\")\n",
    "    print(tokens)\n",
    "    print(\"\\n\" + \"=\"*50 + \"\\n\")\n",
    "except Exception as e:\n",
    "    print(f\"Tokenization failed: {e}\")\n",
    "    tokens = document.split()  # fallback to simple whitespace tokenization\n",
    "\n",
    "# 2. POS Tagging\n",
    "pos_tags = pos_tag(tokens)\n",
    "print(\"POS Tagging:\")\n",
    "print(pos_tags)\n",
    "print(\"\\n\" + \"=\"*50 + \"\\n\")\n",
    "\n",
    "# 3. Stop Words Removal\n",
    "stop_words = set(stopwords.words('english'))\n",
    "filtered_tokens = [word for word in tokens if word.lower() not in stop_words and word.isalpha()]\n",
    "print(\"After Stop Words Removal:\")\n",
    "print(filtered_tokens)\n",
    "print(\"\\n\" + \"=\"*50 + \"\\n\")\n",
    "\n",
    "# 4. Stemming\n",
    "stemmer = PorterStemmer()\n",
    "stemmed_tokens = [stemmer.stem(word) for word in filtered_tokens]\n",
    "print(\"After Stemming:\")\n",
    "print(stemmed_tokens)\n",
    "print(\"\\n\" + \"=\"*50 + \"\\n\")\n",
    "\n",
    "# 5. Lemmatization\n",
    "lemmatizer = WordNetLemmatizer()\n",
    "\n",
    "def get_wordnet_pos(treebank_tag):\n",
    "    tag = treebank_tag[0].upper() if treebank_tag else 'N'\n",
    "    tag_dict = {\"J\": 'a', \"N\": 'n', \"V\": 'v', \"R\": 'r'}\n",
    "    return tag_dict.get(tag, 'n')\n",
    "\n",
    "pos_tags_filtered = pos_tag(filtered_tokens)\n",
    "lemmatized_tokens = []\n",
    "for word, tag in pos_tags_filtered:\n",
    "    lemmatized_tokens.append(lemmatizer.lemmatize(word, pos=get_wordnet_pos(tag)))\n",
    "    \n",
    "print(\"After Lemmatization:\")\n",
    "print(lemmatized_tokens)\n",
    "print(\"\\n\" + \"=\"*50 + \"\\n\")\n",
    "\n",
    "# 6. TF-IDF Representation\n",
    "corpus = [\n",
    "    \" \".join(lemmatized_tokens),\n",
    "    \"dog make wonderful companion\",\n",
    "    \"fox live forest\"\n",
    "]\n",
    "\n",
    "try:\n",
    "    vectorizer = TfidfVectorizer()\n",
    "    tfidf_matrix = vectorizer.fit_transform(corpus)\n",
    "    df_tfidf = pd.DataFrame(tfidf_matrix.toarray(), \n",
    "                          columns=vectorizer.get_feature_names_out(),\n",
    "                          index=[\"Document 1\", \"Document 2\", \"Document 3\"])\n",
    "    \n",
    "    print(\"TF-IDF Representation:\")\n",
    "    print(df_tfidf)\n",
    "except Exception as e:\n",
    "    print(f\"TF-IDF calculation failed: {e}\")"
   ]
  },
  {
   "cell_type": "code",
   "execution_count": null,
   "id": "49bf59c5-ab71-4d52-96cd-f32d5245f773",
   "metadata": {},
   "outputs": [],
   "source": []
  }
 ],
 "metadata": {
  "kernelspec": {
   "display_name": "Python 3 (ipykernel)",
   "language": "python",
   "name": "python3"
  },
  "language_info": {
   "codemirror_mode": {
    "name": "ipython",
    "version": 3
   },
   "file_extension": ".py",
   "mimetype": "text/x-python",
   "name": "python",
   "nbconvert_exporter": "python",
   "pygments_lexer": "ipython3",
   "version": "3.13.2"
  }
 },
 "nbformat": 4,
 "nbformat_minor": 5
}
